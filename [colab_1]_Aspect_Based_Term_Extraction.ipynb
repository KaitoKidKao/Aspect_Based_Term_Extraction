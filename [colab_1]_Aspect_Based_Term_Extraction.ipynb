{
  "nbformat": 4,
  "nbformat_minor": 0,
  "metadata": {
    "colab": {
      "provenance": [],
      "gpuType": "T4"
    },
    "kernelspec": {
      "name": "python3",
      "display_name": "Python 3"
    },
    "language_info": {
      "name": "python"
    },
    "accelerator": "GPU",
    "widgets": {
      "application/vnd.jupyter.widget-state+json": {
        "cc50b06b039a4e018d638b0f2409d5b6": {
          "model_module": "@jupyter-widgets/controls",
          "model_name": "HBoxModel",
          "model_module_version": "1.5.0",
          "state": {
            "_dom_classes": [],
            "_model_module": "@jupyter-widgets/controls",
            "_model_module_version": "1.5.0",
            "_model_name": "HBoxModel",
            "_view_count": null,
            "_view_module": "@jupyter-widgets/controls",
            "_view_module_version": "1.5.0",
            "_view_name": "HBoxView",
            "box_style": "",
            "children": [
              "IPY_MODEL_0f7f5ab1ec7446d2807281a40c539426",
              "IPY_MODEL_11dbd417267548c38192d28cfafeb605",
              "IPY_MODEL_d165df7dabf44d2ab8863e3c0ecd7eae"
            ],
            "layout": "IPY_MODEL_74eb34e6dee44712bbf3a8234377dac4"
          }
        },
        "0f7f5ab1ec7446d2807281a40c539426": {
          "model_module": "@jupyter-widgets/controls",
          "model_name": "HTMLModel",
          "model_module_version": "1.5.0",
          "state": {
            "_dom_classes": [],
            "_model_module": "@jupyter-widgets/controls",
            "_model_module_version": "1.5.0",
            "_model_name": "HTMLModel",
            "_view_count": null,
            "_view_module": "@jupyter-widgets/controls",
            "_view_module_version": "1.5.0",
            "_view_name": "HTMLView",
            "description": "",
            "description_tooltip": null,
            "layout": "IPY_MODEL_28d1879b020c43b893ce506004201072",
            "placeholder": "​",
            "style": "IPY_MODEL_8cca22ba20334fdcbe690270eab59f4e",
            "value": "tokenizer_config.json: 100%"
          }
        },
        "11dbd417267548c38192d28cfafeb605": {
          "model_module": "@jupyter-widgets/controls",
          "model_name": "FloatProgressModel",
          "model_module_version": "1.5.0",
          "state": {
            "_dom_classes": [],
            "_model_module": "@jupyter-widgets/controls",
            "_model_module_version": "1.5.0",
            "_model_name": "FloatProgressModel",
            "_view_count": null,
            "_view_module": "@jupyter-widgets/controls",
            "_view_module_version": "1.5.0",
            "_view_name": "ProgressView",
            "bar_style": "success",
            "description": "",
            "description_tooltip": null,
            "layout": "IPY_MODEL_44a10e0c5b014d2d95091ef8bda34df4",
            "max": 28,
            "min": 0,
            "orientation": "horizontal",
            "style": "IPY_MODEL_4bc88def999d43ff83a92d83f6012d68",
            "value": 28
          }
        },
        "d165df7dabf44d2ab8863e3c0ecd7eae": {
          "model_module": "@jupyter-widgets/controls",
          "model_name": "HTMLModel",
          "model_module_version": "1.5.0",
          "state": {
            "_dom_classes": [],
            "_model_module": "@jupyter-widgets/controls",
            "_model_module_version": "1.5.0",
            "_model_name": "HTMLModel",
            "_view_count": null,
            "_view_module": "@jupyter-widgets/controls",
            "_view_module_version": "1.5.0",
            "_view_name": "HTMLView",
            "description": "",
            "description_tooltip": null,
            "layout": "IPY_MODEL_4aab387d5bca43499c103b5a80a1ff57",
            "placeholder": "​",
            "style": "IPY_MODEL_e15a768c6889471daa8a11307f4a9d39",
            "value": " 28.0/28.0 [00:00&lt;00:00, 1.03kB/s]"
          }
        },
        "74eb34e6dee44712bbf3a8234377dac4": {
          "model_module": "@jupyter-widgets/base",
          "model_name": "LayoutModel",
          "model_module_version": "1.2.0",
          "state": {
            "_model_module": "@jupyter-widgets/base",
            "_model_module_version": "1.2.0",
            "_model_name": "LayoutModel",
            "_view_count": null,
            "_view_module": "@jupyter-widgets/base",
            "_view_module_version": "1.2.0",
            "_view_name": "LayoutView",
            "align_content": null,
            "align_items": null,
            "align_self": null,
            "border": null,
            "bottom": null,
            "display": null,
            "flex": null,
            "flex_flow": null,
            "grid_area": null,
            "grid_auto_columns": null,
            "grid_auto_flow": null,
            "grid_auto_rows": null,
            "grid_column": null,
            "grid_gap": null,
            "grid_row": null,
            "grid_template_areas": null,
            "grid_template_columns": null,
            "grid_template_rows": null,
            "height": null,
            "justify_content": null,
            "justify_items": null,
            "left": null,
            "margin": null,
            "max_height": null,
            "max_width": null,
            "min_height": null,
            "min_width": null,
            "object_fit": null,
            "object_position": null,
            "order": null,
            "overflow": null,
            "overflow_x": null,
            "overflow_y": null,
            "padding": null,
            "right": null,
            "top": null,
            "visibility": null,
            "width": null
          }
        },
        "28d1879b020c43b893ce506004201072": {
          "model_module": "@jupyter-widgets/base",
          "model_name": "LayoutModel",
          "model_module_version": "1.2.0",
          "state": {
            "_model_module": "@jupyter-widgets/base",
            "_model_module_version": "1.2.0",
            "_model_name": "LayoutModel",
            "_view_count": null,
            "_view_module": "@jupyter-widgets/base",
            "_view_module_version": "1.2.0",
            "_view_name": "LayoutView",
            "align_content": null,
            "align_items": null,
            "align_self": null,
            "border": null,
            "bottom": null,
            "display": null,
            "flex": null,
            "flex_flow": null,
            "grid_area": null,
            "grid_auto_columns": null,
            "grid_auto_flow": null,
            "grid_auto_rows": null,
            "grid_column": null,
            "grid_gap": null,
            "grid_row": null,
            "grid_template_areas": null,
            "grid_template_columns": null,
            "grid_template_rows": null,
            "height": null,
            "justify_content": null,
            "justify_items": null,
            "left": null,
            "margin": null,
            "max_height": null,
            "max_width": null,
            "min_height": null,
            "min_width": null,
            "object_fit": null,
            "object_position": null,
            "order": null,
            "overflow": null,
            "overflow_x": null,
            "overflow_y": null,
            "padding": null,
            "right": null,
            "top": null,
            "visibility": null,
            "width": null
          }
        },
        "8cca22ba20334fdcbe690270eab59f4e": {
          "model_module": "@jupyter-widgets/controls",
          "model_name": "DescriptionStyleModel",
          "model_module_version": "1.5.0",
          "state": {
            "_model_module": "@jupyter-widgets/controls",
            "_model_module_version": "1.5.0",
            "_model_name": "DescriptionStyleModel",
            "_view_count": null,
            "_view_module": "@jupyter-widgets/base",
            "_view_module_version": "1.2.0",
            "_view_name": "StyleView",
            "description_width": ""
          }
        },
        "44a10e0c5b014d2d95091ef8bda34df4": {
          "model_module": "@jupyter-widgets/base",
          "model_name": "LayoutModel",
          "model_module_version": "1.2.0",
          "state": {
            "_model_module": "@jupyter-widgets/base",
            "_model_module_version": "1.2.0",
            "_model_name": "LayoutModel",
            "_view_count": null,
            "_view_module": "@jupyter-widgets/base",
            "_view_module_version": "1.2.0",
            "_view_name": "LayoutView",
            "align_content": null,
            "align_items": null,
            "align_self": null,
            "border": null,
            "bottom": null,
            "display": null,
            "flex": null,
            "flex_flow": null,
            "grid_area": null,
            "grid_auto_columns": null,
            "grid_auto_flow": null,
            "grid_auto_rows": null,
            "grid_column": null,
            "grid_gap": null,
            "grid_row": null,
            "grid_template_areas": null,
            "grid_template_columns": null,
            "grid_template_rows": null,
            "height": null,
            "justify_content": null,
            "justify_items": null,
            "left": null,
            "margin": null,
            "max_height": null,
            "max_width": null,
            "min_height": null,
            "min_width": null,
            "object_fit": null,
            "object_position": null,
            "order": null,
            "overflow": null,
            "overflow_x": null,
            "overflow_y": null,
            "padding": null,
            "right": null,
            "top": null,
            "visibility": null,
            "width": null
          }
        },
        "4bc88def999d43ff83a92d83f6012d68": {
          "model_module": "@jupyter-widgets/controls",
          "model_name": "ProgressStyleModel",
          "model_module_version": "1.5.0",
          "state": {
            "_model_module": "@jupyter-widgets/controls",
            "_model_module_version": "1.5.0",
            "_model_name": "ProgressStyleModel",
            "_view_count": null,
            "_view_module": "@jupyter-widgets/base",
            "_view_module_version": "1.2.0",
            "_view_name": "StyleView",
            "bar_color": null,
            "description_width": ""
          }
        },
        "4aab387d5bca43499c103b5a80a1ff57": {
          "model_module": "@jupyter-widgets/base",
          "model_name": "LayoutModel",
          "model_module_version": "1.2.0",
          "state": {
            "_model_module": "@jupyter-widgets/base",
            "_model_module_version": "1.2.0",
            "_model_name": "LayoutModel",
            "_view_count": null,
            "_view_module": "@jupyter-widgets/base",
            "_view_module_version": "1.2.0",
            "_view_name": "LayoutView",
            "align_content": null,
            "align_items": null,
            "align_self": null,
            "border": null,
            "bottom": null,
            "display": null,
            "flex": null,
            "flex_flow": null,
            "grid_area": null,
            "grid_auto_columns": null,
            "grid_auto_flow": null,
            "grid_auto_rows": null,
            "grid_column": null,
            "grid_gap": null,
            "grid_row": null,
            "grid_template_areas": null,
            "grid_template_columns": null,
            "grid_template_rows": null,
            "height": null,
            "justify_content": null,
            "justify_items": null,
            "left": null,
            "margin": null,
            "max_height": null,
            "max_width": null,
            "min_height": null,
            "min_width": null,
            "object_fit": null,
            "object_position": null,
            "order": null,
            "overflow": null,
            "overflow_x": null,
            "overflow_y": null,
            "padding": null,
            "right": null,
            "top": null,
            "visibility": null,
            "width": null
          }
        },
        "e15a768c6889471daa8a11307f4a9d39": {
          "model_module": "@jupyter-widgets/controls",
          "model_name": "DescriptionStyleModel",
          "model_module_version": "1.5.0",
          "state": {
            "_model_module": "@jupyter-widgets/controls",
            "_model_module_version": "1.5.0",
            "_model_name": "DescriptionStyleModel",
            "_view_count": null,
            "_view_module": "@jupyter-widgets/base",
            "_view_module_version": "1.2.0",
            "_view_name": "StyleView",
            "description_width": ""
          }
        },
        "4e1c10e89ae84dd295df1092a7d79d87": {
          "model_module": "@jupyter-widgets/controls",
          "model_name": "HBoxModel",
          "model_module_version": "1.5.0",
          "state": {
            "_dom_classes": [],
            "_model_module": "@jupyter-widgets/controls",
            "_model_module_version": "1.5.0",
            "_model_name": "HBoxModel",
            "_view_count": null,
            "_view_module": "@jupyter-widgets/controls",
            "_view_module_version": "1.5.0",
            "_view_name": "HBoxView",
            "box_style": "",
            "children": [
              "IPY_MODEL_3f0ff93173434ea186340b51e1ffb171",
              "IPY_MODEL_dba7a86ae5a34ec3b55c151567e2111b",
              "IPY_MODEL_25b3ab60c4444355b40b30272c220b82"
            ],
            "layout": "IPY_MODEL_12364c4cf986444eb765746c4d87f6e0"
          }
        },
        "3f0ff93173434ea186340b51e1ffb171": {
          "model_module": "@jupyter-widgets/controls",
          "model_name": "HTMLModel",
          "model_module_version": "1.5.0",
          "state": {
            "_dom_classes": [],
            "_model_module": "@jupyter-widgets/controls",
            "_model_module_version": "1.5.0",
            "_model_name": "HTMLModel",
            "_view_count": null,
            "_view_module": "@jupyter-widgets/controls",
            "_view_module_version": "1.5.0",
            "_view_name": "HTMLView",
            "description": "",
            "description_tooltip": null,
            "layout": "IPY_MODEL_11b37720a6a54dc88f9c94df94d2a85c",
            "placeholder": "​",
            "style": "IPY_MODEL_ff4e62ec030540e5901c658c7ead179e",
            "value": "vocab.txt: 100%"
          }
        },
        "dba7a86ae5a34ec3b55c151567e2111b": {
          "model_module": "@jupyter-widgets/controls",
          "model_name": "FloatProgressModel",
          "model_module_version": "1.5.0",
          "state": {
            "_dom_classes": [],
            "_model_module": "@jupyter-widgets/controls",
            "_model_module_version": "1.5.0",
            "_model_name": "FloatProgressModel",
            "_view_count": null,
            "_view_module": "@jupyter-widgets/controls",
            "_view_module_version": "1.5.0",
            "_view_name": "ProgressView",
            "bar_style": "success",
            "description": "",
            "description_tooltip": null,
            "layout": "IPY_MODEL_c8e528d39ce244cfbf1d80d3aebf531f",
            "max": 231508,
            "min": 0,
            "orientation": "horizontal",
            "style": "IPY_MODEL_aab183e545224642af66bca6a28e7665",
            "value": 231508
          }
        },
        "25b3ab60c4444355b40b30272c220b82": {
          "model_module": "@jupyter-widgets/controls",
          "model_name": "HTMLModel",
          "model_module_version": "1.5.0",
          "state": {
            "_dom_classes": [],
            "_model_module": "@jupyter-widgets/controls",
            "_model_module_version": "1.5.0",
            "_model_name": "HTMLModel",
            "_view_count": null,
            "_view_module": "@jupyter-widgets/controls",
            "_view_module_version": "1.5.0",
            "_view_name": "HTMLView",
            "description": "",
            "description_tooltip": null,
            "layout": "IPY_MODEL_244ac835c8ea4a4b9e4464934250d3db",
            "placeholder": "​",
            "style": "IPY_MODEL_7a622b02984c4f82a7d47fe6f7804a44",
            "value": " 232k/232k [00:00&lt;00:00, 580kB/s]"
          }
        },
        "12364c4cf986444eb765746c4d87f6e0": {
          "model_module": "@jupyter-widgets/base",
          "model_name": "LayoutModel",
          "model_module_version": "1.2.0",
          "state": {
            "_model_module": "@jupyter-widgets/base",
            "_model_module_version": "1.2.0",
            "_model_name": "LayoutModel",
            "_view_count": null,
            "_view_module": "@jupyter-widgets/base",
            "_view_module_version": "1.2.0",
            "_view_name": "LayoutView",
            "align_content": null,
            "align_items": null,
            "align_self": null,
            "border": null,
            "bottom": null,
            "display": null,
            "flex": null,
            "flex_flow": null,
            "grid_area": null,
            "grid_auto_columns": null,
            "grid_auto_flow": null,
            "grid_auto_rows": null,
            "grid_column": null,
            "grid_gap": null,
            "grid_row": null,
            "grid_template_areas": null,
            "grid_template_columns": null,
            "grid_template_rows": null,
            "height": null,
            "justify_content": null,
            "justify_items": null,
            "left": null,
            "margin": null,
            "max_height": null,
            "max_width": null,
            "min_height": null,
            "min_width": null,
            "object_fit": null,
            "object_position": null,
            "order": null,
            "overflow": null,
            "overflow_x": null,
            "overflow_y": null,
            "padding": null,
            "right": null,
            "top": null,
            "visibility": null,
            "width": null
          }
        },
        "11b37720a6a54dc88f9c94df94d2a85c": {
          "model_module": "@jupyter-widgets/base",
          "model_name": "LayoutModel",
          "model_module_version": "1.2.0",
          "state": {
            "_model_module": "@jupyter-widgets/base",
            "_model_module_version": "1.2.0",
            "_model_name": "LayoutModel",
            "_view_count": null,
            "_view_module": "@jupyter-widgets/base",
            "_view_module_version": "1.2.0",
            "_view_name": "LayoutView",
            "align_content": null,
            "align_items": null,
            "align_self": null,
            "border": null,
            "bottom": null,
            "display": null,
            "flex": null,
            "flex_flow": null,
            "grid_area": null,
            "grid_auto_columns": null,
            "grid_auto_flow": null,
            "grid_auto_rows": null,
            "grid_column": null,
            "grid_gap": null,
            "grid_row": null,
            "grid_template_areas": null,
            "grid_template_columns": null,
            "grid_template_rows": null,
            "height": null,
            "justify_content": null,
            "justify_items": null,
            "left": null,
            "margin": null,
            "max_height": null,
            "max_width": null,
            "min_height": null,
            "min_width": null,
            "object_fit": null,
            "object_position": null,
            "order": null,
            "overflow": null,
            "overflow_x": null,
            "overflow_y": null,
            "padding": null,
            "right": null,
            "top": null,
            "visibility": null,
            "width": null
          }
        },
        "ff4e62ec030540e5901c658c7ead179e": {
          "model_module": "@jupyter-widgets/controls",
          "model_name": "DescriptionStyleModel",
          "model_module_version": "1.5.0",
          "state": {
            "_model_module": "@jupyter-widgets/controls",
            "_model_module_version": "1.5.0",
            "_model_name": "DescriptionStyleModel",
            "_view_count": null,
            "_view_module": "@jupyter-widgets/base",
            "_view_module_version": "1.2.0",
            "_view_name": "StyleView",
            "description_width": ""
          }
        },
        "c8e528d39ce244cfbf1d80d3aebf531f": {
          "model_module": "@jupyter-widgets/base",
          "model_name": "LayoutModel",
          "model_module_version": "1.2.0",
          "state": {
            "_model_module": "@jupyter-widgets/base",
            "_model_module_version": "1.2.0",
            "_model_name": "LayoutModel",
            "_view_count": null,
            "_view_module": "@jupyter-widgets/base",
            "_view_module_version": "1.2.0",
            "_view_name": "LayoutView",
            "align_content": null,
            "align_items": null,
            "align_self": null,
            "border": null,
            "bottom": null,
            "display": null,
            "flex": null,
            "flex_flow": null,
            "grid_area": null,
            "grid_auto_columns": null,
            "grid_auto_flow": null,
            "grid_auto_rows": null,
            "grid_column": null,
            "grid_gap": null,
            "grid_row": null,
            "grid_template_areas": null,
            "grid_template_columns": null,
            "grid_template_rows": null,
            "height": null,
            "justify_content": null,
            "justify_items": null,
            "left": null,
            "margin": null,
            "max_height": null,
            "max_width": null,
            "min_height": null,
            "min_width": null,
            "object_fit": null,
            "object_position": null,
            "order": null,
            "overflow": null,
            "overflow_x": null,
            "overflow_y": null,
            "padding": null,
            "right": null,
            "top": null,
            "visibility": null,
            "width": null
          }
        },
        "aab183e545224642af66bca6a28e7665": {
          "model_module": "@jupyter-widgets/controls",
          "model_name": "ProgressStyleModel",
          "model_module_version": "1.5.0",
          "state": {
            "_model_module": "@jupyter-widgets/controls",
            "_model_module_version": "1.5.0",
            "_model_name": "ProgressStyleModel",
            "_view_count": null,
            "_view_module": "@jupyter-widgets/base",
            "_view_module_version": "1.2.0",
            "_view_name": "StyleView",
            "bar_color": null,
            "description_width": ""
          }
        },
        "244ac835c8ea4a4b9e4464934250d3db": {
          "model_module": "@jupyter-widgets/base",
          "model_name": "LayoutModel",
          "model_module_version": "1.2.0",
          "state": {
            "_model_module": "@jupyter-widgets/base",
            "_model_module_version": "1.2.0",
            "_model_name": "LayoutModel",
            "_view_count": null,
            "_view_module": "@jupyter-widgets/base",
            "_view_module_version": "1.2.0",
            "_view_name": "LayoutView",
            "align_content": null,
            "align_items": null,
            "align_self": null,
            "border": null,
            "bottom": null,
            "display": null,
            "flex": null,
            "flex_flow": null,
            "grid_area": null,
            "grid_auto_columns": null,
            "grid_auto_flow": null,
            "grid_auto_rows": null,
            "grid_column": null,
            "grid_gap": null,
            "grid_row": null,
            "grid_template_areas": null,
            "grid_template_columns": null,
            "grid_template_rows": null,
            "height": null,
            "justify_content": null,
            "justify_items": null,
            "left": null,
            "margin": null,
            "max_height": null,
            "max_width": null,
            "min_height": null,
            "min_width": null,
            "object_fit": null,
            "object_position": null,
            "order": null,
            "overflow": null,
            "overflow_x": null,
            "overflow_y": null,
            "padding": null,
            "right": null,
            "top": null,
            "visibility": null,
            "width": null
          }
        },
        "7a622b02984c4f82a7d47fe6f7804a44": {
          "model_module": "@jupyter-widgets/controls",
          "model_name": "DescriptionStyleModel",
          "model_module_version": "1.5.0",
          "state": {
            "_model_module": "@jupyter-widgets/controls",
            "_model_module_version": "1.5.0",
            "_model_name": "DescriptionStyleModel",
            "_view_count": null,
            "_view_module": "@jupyter-widgets/base",
            "_view_module_version": "1.2.0",
            "_view_name": "StyleView",
            "description_width": ""
          }
        },
        "0b9fea6ddbc8427294621fbd927c7c07": {
          "model_module": "@jupyter-widgets/controls",
          "model_name": "HBoxModel",
          "model_module_version": "1.5.0",
          "state": {
            "_dom_classes": [],
            "_model_module": "@jupyter-widgets/controls",
            "_model_module_version": "1.5.0",
            "_model_name": "HBoxModel",
            "_view_count": null,
            "_view_module": "@jupyter-widgets/controls",
            "_view_module_version": "1.5.0",
            "_view_name": "HBoxView",
            "box_style": "",
            "children": [
              "IPY_MODEL_c5940bbac17b41eb8aae5620f696ce41",
              "IPY_MODEL_18ffe392e2ba460ca482ae3c2bbbc6a7",
              "IPY_MODEL_b121f69bd04d4d278c9099be1d1a2eba"
            ],
            "layout": "IPY_MODEL_9e8e43c0ef974675bc7c71e7bdb67291"
          }
        },
        "c5940bbac17b41eb8aae5620f696ce41": {
          "model_module": "@jupyter-widgets/controls",
          "model_name": "HTMLModel",
          "model_module_version": "1.5.0",
          "state": {
            "_dom_classes": [],
            "_model_module": "@jupyter-widgets/controls",
            "_model_module_version": "1.5.0",
            "_model_name": "HTMLModel",
            "_view_count": null,
            "_view_module": "@jupyter-widgets/controls",
            "_view_module_version": "1.5.0",
            "_view_name": "HTMLView",
            "description": "",
            "description_tooltip": null,
            "layout": "IPY_MODEL_fa642a38083946a98992d9acd333dabe",
            "placeholder": "​",
            "style": "IPY_MODEL_e89454d73b7e4514a2493c16666b4faf",
            "value": "tokenizer.json: 100%"
          }
        },
        "18ffe392e2ba460ca482ae3c2bbbc6a7": {
          "model_module": "@jupyter-widgets/controls",
          "model_name": "FloatProgressModel",
          "model_module_version": "1.5.0",
          "state": {
            "_dom_classes": [],
            "_model_module": "@jupyter-widgets/controls",
            "_model_module_version": "1.5.0",
            "_model_name": "FloatProgressModel",
            "_view_count": null,
            "_view_module": "@jupyter-widgets/controls",
            "_view_module_version": "1.5.0",
            "_view_name": "ProgressView",
            "bar_style": "success",
            "description": "",
            "description_tooltip": null,
            "layout": "IPY_MODEL_9391f707b896437bbf14ae1b930a9e26",
            "max": 466062,
            "min": 0,
            "orientation": "horizontal",
            "style": "IPY_MODEL_b22599ce0eb840d1b0fe9e00ed4b01f8",
            "value": 466062
          }
        },
        "b121f69bd04d4d278c9099be1d1a2eba": {
          "model_module": "@jupyter-widgets/controls",
          "model_name": "HTMLModel",
          "model_module_version": "1.5.0",
          "state": {
            "_dom_classes": [],
            "_model_module": "@jupyter-widgets/controls",
            "_model_module_version": "1.5.0",
            "_model_name": "HTMLModel",
            "_view_count": null,
            "_view_module": "@jupyter-widgets/controls",
            "_view_module_version": "1.5.0",
            "_view_name": "HTMLView",
            "description": "",
            "description_tooltip": null,
            "layout": "IPY_MODEL_a0de59514ba4496f9006bfdb7b6779aa",
            "placeholder": "​",
            "style": "IPY_MODEL_d685560936a540a088daa7ed8eff0d01",
            "value": " 466k/466k [00:00&lt;00:00, 780kB/s]"
          }
        },
        "9e8e43c0ef974675bc7c71e7bdb67291": {
          "model_module": "@jupyter-widgets/base",
          "model_name": "LayoutModel",
          "model_module_version": "1.2.0",
          "state": {
            "_model_module": "@jupyter-widgets/base",
            "_model_module_version": "1.2.0",
            "_model_name": "LayoutModel",
            "_view_count": null,
            "_view_module": "@jupyter-widgets/base",
            "_view_module_version": "1.2.0",
            "_view_name": "LayoutView",
            "align_content": null,
            "align_items": null,
            "align_self": null,
            "border": null,
            "bottom": null,
            "display": null,
            "flex": null,
            "flex_flow": null,
            "grid_area": null,
            "grid_auto_columns": null,
            "grid_auto_flow": null,
            "grid_auto_rows": null,
            "grid_column": null,
            "grid_gap": null,
            "grid_row": null,
            "grid_template_areas": null,
            "grid_template_columns": null,
            "grid_template_rows": null,
            "height": null,
            "justify_content": null,
            "justify_items": null,
            "left": null,
            "margin": null,
            "max_height": null,
            "max_width": null,
            "min_height": null,
            "min_width": null,
            "object_fit": null,
            "object_position": null,
            "order": null,
            "overflow": null,
            "overflow_x": null,
            "overflow_y": null,
            "padding": null,
            "right": null,
            "top": null,
            "visibility": null,
            "width": null
          }
        },
        "fa642a38083946a98992d9acd333dabe": {
          "model_module": "@jupyter-widgets/base",
          "model_name": "LayoutModel",
          "model_module_version": "1.2.0",
          "state": {
            "_model_module": "@jupyter-widgets/base",
            "_model_module_version": "1.2.0",
            "_model_name": "LayoutModel",
            "_view_count": null,
            "_view_module": "@jupyter-widgets/base",
            "_view_module_version": "1.2.0",
            "_view_name": "LayoutView",
            "align_content": null,
            "align_items": null,
            "align_self": null,
            "border": null,
            "bottom": null,
            "display": null,
            "flex": null,
            "flex_flow": null,
            "grid_area": null,
            "grid_auto_columns": null,
            "grid_auto_flow": null,
            "grid_auto_rows": null,
            "grid_column": null,
            "grid_gap": null,
            "grid_row": null,
            "grid_template_areas": null,
            "grid_template_columns": null,
            "grid_template_rows": null,
            "height": null,
            "justify_content": null,
            "justify_items": null,
            "left": null,
            "margin": null,
            "max_height": null,
            "max_width": null,
            "min_height": null,
            "min_width": null,
            "object_fit": null,
            "object_position": null,
            "order": null,
            "overflow": null,
            "overflow_x": null,
            "overflow_y": null,
            "padding": null,
            "right": null,
            "top": null,
            "visibility": null,
            "width": null
          }
        },
        "e89454d73b7e4514a2493c16666b4faf": {
          "model_module": "@jupyter-widgets/controls",
          "model_name": "DescriptionStyleModel",
          "model_module_version": "1.5.0",
          "state": {
            "_model_module": "@jupyter-widgets/controls",
            "_model_module_version": "1.5.0",
            "_model_name": "DescriptionStyleModel",
            "_view_count": null,
            "_view_module": "@jupyter-widgets/base",
            "_view_module_version": "1.2.0",
            "_view_name": "StyleView",
            "description_width": ""
          }
        },
        "9391f707b896437bbf14ae1b930a9e26": {
          "model_module": "@jupyter-widgets/base",
          "model_name": "LayoutModel",
          "model_module_version": "1.2.0",
          "state": {
            "_model_module": "@jupyter-widgets/base",
            "_model_module_version": "1.2.0",
            "_model_name": "LayoutModel",
            "_view_count": null,
            "_view_module": "@jupyter-widgets/base",
            "_view_module_version": "1.2.0",
            "_view_name": "LayoutView",
            "align_content": null,
            "align_items": null,
            "align_self": null,
            "border": null,
            "bottom": null,
            "display": null,
            "flex": null,
            "flex_flow": null,
            "grid_area": null,
            "grid_auto_columns": null,
            "grid_auto_flow": null,
            "grid_auto_rows": null,
            "grid_column": null,
            "grid_gap": null,
            "grid_row": null,
            "grid_template_areas": null,
            "grid_template_columns": null,
            "grid_template_rows": null,
            "height": null,
            "justify_content": null,
            "justify_items": null,
            "left": null,
            "margin": null,
            "max_height": null,
            "max_width": null,
            "min_height": null,
            "min_width": null,
            "object_fit": null,
            "object_position": null,
            "order": null,
            "overflow": null,
            "overflow_x": null,
            "overflow_y": null,
            "padding": null,
            "right": null,
            "top": null,
            "visibility": null,
            "width": null
          }
        },
        "b22599ce0eb840d1b0fe9e00ed4b01f8": {
          "model_module": "@jupyter-widgets/controls",
          "model_name": "ProgressStyleModel",
          "model_module_version": "1.5.0",
          "state": {
            "_model_module": "@jupyter-widgets/controls",
            "_model_module_version": "1.5.0",
            "_model_name": "ProgressStyleModel",
            "_view_count": null,
            "_view_module": "@jupyter-widgets/base",
            "_view_module_version": "1.2.0",
            "_view_name": "StyleView",
            "bar_color": null,
            "description_width": ""
          }
        },
        "a0de59514ba4496f9006bfdb7b6779aa": {
          "model_module": "@jupyter-widgets/base",
          "model_name": "LayoutModel",
          "model_module_version": "1.2.0",
          "state": {
            "_model_module": "@jupyter-widgets/base",
            "_model_module_version": "1.2.0",
            "_model_name": "LayoutModel",
            "_view_count": null,
            "_view_module": "@jupyter-widgets/base",
            "_view_module_version": "1.2.0",
            "_view_name": "LayoutView",
            "align_content": null,
            "align_items": null,
            "align_self": null,
            "border": null,
            "bottom": null,
            "display": null,
            "flex": null,
            "flex_flow": null,
            "grid_area": null,
            "grid_auto_columns": null,
            "grid_auto_flow": null,
            "grid_auto_rows": null,
            "grid_column": null,
            "grid_gap": null,
            "grid_row": null,
            "grid_template_areas": null,
            "grid_template_columns": null,
            "grid_template_rows": null,
            "height": null,
            "justify_content": null,
            "justify_items": null,
            "left": null,
            "margin": null,
            "max_height": null,
            "max_width": null,
            "min_height": null,
            "min_width": null,
            "object_fit": null,
            "object_position": null,
            "order": null,
            "overflow": null,
            "overflow_x": null,
            "overflow_y": null,
            "padding": null,
            "right": null,
            "top": null,
            "visibility": null,
            "width": null
          }
        },
        "d685560936a540a088daa7ed8eff0d01": {
          "model_module": "@jupyter-widgets/controls",
          "model_name": "DescriptionStyleModel",
          "model_module_version": "1.5.0",
          "state": {
            "_model_module": "@jupyter-widgets/controls",
            "_model_module_version": "1.5.0",
            "_model_name": "DescriptionStyleModel",
            "_view_count": null,
            "_view_module": "@jupyter-widgets/base",
            "_view_module_version": "1.2.0",
            "_view_name": "StyleView",
            "description_width": ""
          }
        },
        "0a93391df06b488ca443f98cd96cfa03": {
          "model_module": "@jupyter-widgets/controls",
          "model_name": "HBoxModel",
          "model_module_version": "1.5.0",
          "state": {
            "_dom_classes": [],
            "_model_module": "@jupyter-widgets/controls",
            "_model_module_version": "1.5.0",
            "_model_name": "HBoxModel",
            "_view_count": null,
            "_view_module": "@jupyter-widgets/controls",
            "_view_module_version": "1.5.0",
            "_view_name": "HBoxView",
            "box_style": "",
            "children": [
              "IPY_MODEL_59a07b513cd54ba49e245bbd61918e0b",
              "IPY_MODEL_12a57ba31c104ea68beb5750126b7955",
              "IPY_MODEL_eff7ff7e2e9c4fc397923a50e18b393c"
            ],
            "layout": "IPY_MODEL_93e99b42a7ac4a36be79e3489848aaf0"
          }
        },
        "59a07b513cd54ba49e245bbd61918e0b": {
          "model_module": "@jupyter-widgets/controls",
          "model_name": "HTMLModel",
          "model_module_version": "1.5.0",
          "state": {
            "_dom_classes": [],
            "_model_module": "@jupyter-widgets/controls",
            "_model_module_version": "1.5.0",
            "_model_name": "HTMLModel",
            "_view_count": null,
            "_view_module": "@jupyter-widgets/controls",
            "_view_module_version": "1.5.0",
            "_view_name": "HTMLView",
            "description": "",
            "description_tooltip": null,
            "layout": "IPY_MODEL_70a7b54c20bb4782b0a8f02b8cc7a56c",
            "placeholder": "​",
            "style": "IPY_MODEL_7d96d0b35b93416187c7e4176527321d",
            "value": "config.json: 100%"
          }
        },
        "12a57ba31c104ea68beb5750126b7955": {
          "model_module": "@jupyter-widgets/controls",
          "model_name": "FloatProgressModel",
          "model_module_version": "1.5.0",
          "state": {
            "_dom_classes": [],
            "_model_module": "@jupyter-widgets/controls",
            "_model_module_version": "1.5.0",
            "_model_name": "FloatProgressModel",
            "_view_count": null,
            "_view_module": "@jupyter-widgets/controls",
            "_view_module_version": "1.5.0",
            "_view_name": "ProgressView",
            "bar_style": "success",
            "description": "",
            "description_tooltip": null,
            "layout": "IPY_MODEL_580a9f4ee1f04f9bb40680deecebf2b5",
            "max": 570,
            "min": 0,
            "orientation": "horizontal",
            "style": "IPY_MODEL_94e9789c2a4547cf903bbf26f4ee84a2",
            "value": 570
          }
        },
        "eff7ff7e2e9c4fc397923a50e18b393c": {
          "model_module": "@jupyter-widgets/controls",
          "model_name": "HTMLModel",
          "model_module_version": "1.5.0",
          "state": {
            "_dom_classes": [],
            "_model_module": "@jupyter-widgets/controls",
            "_model_module_version": "1.5.0",
            "_model_name": "HTMLModel",
            "_view_count": null,
            "_view_module": "@jupyter-widgets/controls",
            "_view_module_version": "1.5.0",
            "_view_name": "HTMLView",
            "description": "",
            "description_tooltip": null,
            "layout": "IPY_MODEL_047e1c17715d40bcaf3eea3cad8a6503",
            "placeholder": "​",
            "style": "IPY_MODEL_c5ee5d522c7b4459b13582f29504cc8e",
            "value": " 570/570 [00:00&lt;00:00, 25.5kB/s]"
          }
        },
        "93e99b42a7ac4a36be79e3489848aaf0": {
          "model_module": "@jupyter-widgets/base",
          "model_name": "LayoutModel",
          "model_module_version": "1.2.0",
          "state": {
            "_model_module": "@jupyter-widgets/base",
            "_model_module_version": "1.2.0",
            "_model_name": "LayoutModel",
            "_view_count": null,
            "_view_module": "@jupyter-widgets/base",
            "_view_module_version": "1.2.0",
            "_view_name": "LayoutView",
            "align_content": null,
            "align_items": null,
            "align_self": null,
            "border": null,
            "bottom": null,
            "display": null,
            "flex": null,
            "flex_flow": null,
            "grid_area": null,
            "grid_auto_columns": null,
            "grid_auto_flow": null,
            "grid_auto_rows": null,
            "grid_column": null,
            "grid_gap": null,
            "grid_row": null,
            "grid_template_areas": null,
            "grid_template_columns": null,
            "grid_template_rows": null,
            "height": null,
            "justify_content": null,
            "justify_items": null,
            "left": null,
            "margin": null,
            "max_height": null,
            "max_width": null,
            "min_height": null,
            "min_width": null,
            "object_fit": null,
            "object_position": null,
            "order": null,
            "overflow": null,
            "overflow_x": null,
            "overflow_y": null,
            "padding": null,
            "right": null,
            "top": null,
            "visibility": null,
            "width": null
          }
        },
        "70a7b54c20bb4782b0a8f02b8cc7a56c": {
          "model_module": "@jupyter-widgets/base",
          "model_name": "LayoutModel",
          "model_module_version": "1.2.0",
          "state": {
            "_model_module": "@jupyter-widgets/base",
            "_model_module_version": "1.2.0",
            "_model_name": "LayoutModel",
            "_view_count": null,
            "_view_module": "@jupyter-widgets/base",
            "_view_module_version": "1.2.0",
            "_view_name": "LayoutView",
            "align_content": null,
            "align_items": null,
            "align_self": null,
            "border": null,
            "bottom": null,
            "display": null,
            "flex": null,
            "flex_flow": null,
            "grid_area": null,
            "grid_auto_columns": null,
            "grid_auto_flow": null,
            "grid_auto_rows": null,
            "grid_column": null,
            "grid_gap": null,
            "grid_row": null,
            "grid_template_areas": null,
            "grid_template_columns": null,
            "grid_template_rows": null,
            "height": null,
            "justify_content": null,
            "justify_items": null,
            "left": null,
            "margin": null,
            "max_height": null,
            "max_width": null,
            "min_height": null,
            "min_width": null,
            "object_fit": null,
            "object_position": null,
            "order": null,
            "overflow": null,
            "overflow_x": null,
            "overflow_y": null,
            "padding": null,
            "right": null,
            "top": null,
            "visibility": null,
            "width": null
          }
        },
        "7d96d0b35b93416187c7e4176527321d": {
          "model_module": "@jupyter-widgets/controls",
          "model_name": "DescriptionStyleModel",
          "model_module_version": "1.5.0",
          "state": {
            "_model_module": "@jupyter-widgets/controls",
            "_model_module_version": "1.5.0",
            "_model_name": "DescriptionStyleModel",
            "_view_count": null,
            "_view_module": "@jupyter-widgets/base",
            "_view_module_version": "1.2.0",
            "_view_name": "StyleView",
            "description_width": ""
          }
        },
        "580a9f4ee1f04f9bb40680deecebf2b5": {
          "model_module": "@jupyter-widgets/base",
          "model_name": "LayoutModel",
          "model_module_version": "1.2.0",
          "state": {
            "_model_module": "@jupyter-widgets/base",
            "_model_module_version": "1.2.0",
            "_model_name": "LayoutModel",
            "_view_count": null,
            "_view_module": "@jupyter-widgets/base",
            "_view_module_version": "1.2.0",
            "_view_name": "LayoutView",
            "align_content": null,
            "align_items": null,
            "align_self": null,
            "border": null,
            "bottom": null,
            "display": null,
            "flex": null,
            "flex_flow": null,
            "grid_area": null,
            "grid_auto_columns": null,
            "grid_auto_flow": null,
            "grid_auto_rows": null,
            "grid_column": null,
            "grid_gap": null,
            "grid_row": null,
            "grid_template_areas": null,
            "grid_template_columns": null,
            "grid_template_rows": null,
            "height": null,
            "justify_content": null,
            "justify_items": null,
            "left": null,
            "margin": null,
            "max_height": null,
            "max_width": null,
            "min_height": null,
            "min_width": null,
            "object_fit": null,
            "object_position": null,
            "order": null,
            "overflow": null,
            "overflow_x": null,
            "overflow_y": null,
            "padding": null,
            "right": null,
            "top": null,
            "visibility": null,
            "width": null
          }
        },
        "94e9789c2a4547cf903bbf26f4ee84a2": {
          "model_module": "@jupyter-widgets/controls",
          "model_name": "ProgressStyleModel",
          "model_module_version": "1.5.0",
          "state": {
            "_model_module": "@jupyter-widgets/controls",
            "_model_module_version": "1.5.0",
            "_model_name": "ProgressStyleModel",
            "_view_count": null,
            "_view_module": "@jupyter-widgets/base",
            "_view_module_version": "1.2.0",
            "_view_name": "StyleView",
            "bar_color": null,
            "description_width": ""
          }
        },
        "047e1c17715d40bcaf3eea3cad8a6503": {
          "model_module": "@jupyter-widgets/base",
          "model_name": "LayoutModel",
          "model_module_version": "1.2.0",
          "state": {
            "_model_module": "@jupyter-widgets/base",
            "_model_module_version": "1.2.0",
            "_model_name": "LayoutModel",
            "_view_count": null,
            "_view_module": "@jupyter-widgets/base",
            "_view_module_version": "1.2.0",
            "_view_name": "LayoutView",
            "align_content": null,
            "align_items": null,
            "align_self": null,
            "border": null,
            "bottom": null,
            "display": null,
            "flex": null,
            "flex_flow": null,
            "grid_area": null,
            "grid_auto_columns": null,
            "grid_auto_flow": null,
            "grid_auto_rows": null,
            "grid_column": null,
            "grid_gap": null,
            "grid_row": null,
            "grid_template_areas": null,
            "grid_template_columns": null,
            "grid_template_rows": null,
            "height": null,
            "justify_content": null,
            "justify_items": null,
            "left": null,
            "margin": null,
            "max_height": null,
            "max_width": null,
            "min_height": null,
            "min_width": null,
            "object_fit": null,
            "object_position": null,
            "order": null,
            "overflow": null,
            "overflow_x": null,
            "overflow_y": null,
            "padding": null,
            "right": null,
            "top": null,
            "visibility": null,
            "width": null
          }
        },
        "c5ee5d522c7b4459b13582f29504cc8e": {
          "model_module": "@jupyter-widgets/controls",
          "model_name": "DescriptionStyleModel",
          "model_module_version": "1.5.0",
          "state": {
            "_model_module": "@jupyter-widgets/controls",
            "_model_module_version": "1.5.0",
            "_model_name": "DescriptionStyleModel",
            "_view_count": null,
            "_view_module": "@jupyter-widgets/base",
            "_view_module_version": "1.2.0",
            "_view_name": "StyleView",
            "description_width": ""
          }
        }
      }
    }
  },
  "cells": [
    {
      "cell_type": "code",
      "execution_count": null,
      "metadata": {
        "colab": {
          "base_uri": "https://localhost:8080/"
        },
        "id": "QCm-Qniexs2d",
        "outputId": "f9e5c6af-7667-4395-e5eb-b7bcd26bff24"
      },
      "outputs": [
        {
          "output_type": "stream",
          "name": "stdout",
          "text": [
            "Downloading...\n",
            "From: https://drive.google.com/uc?id=1d7JABk4jViI-USjLsWmhGkvzi8uQIL5C\n",
            "To: /content/data.zip\n",
            "\r  0% 0.00/151k [00:00<?, ?B/s]\r100% 151k/151k [00:00<00:00, 17.8MB/s]\n"
          ]
        }
      ],
      "source": [
        "!gdown 1d7JABk4jViI-USjLsWmhGkvzi8uQIL5C"
      ]
    },
    {
      "cell_type": "code",
      "source": [
        "!unzip ./data.zip"
      ],
      "metadata": {
        "colab": {
          "base_uri": "https://localhost:8080/"
        },
        "id": "y3_qL8fu_5Ga",
        "outputId": "f774b5d5-b172-491a-855f-23dcd5b5eb5d"
      },
      "execution_count": null,
      "outputs": [
        {
          "output_type": "stream",
          "name": "stdout",
          "text": [
            "Archive:  ./data.zip\n",
            "   creating: data/\n",
            "  inflating: __MACOSX/._data         \n",
            "  inflating: data/restaurants_train.csv  \n",
            "  inflating: __MACOSX/data/._restaurants_train.csv  \n",
            "  inflating: data/restaurants_test.csv  \n",
            "  inflating: __MACOSX/data/._restaurants_test.csv  \n"
          ]
        }
      ]
    },
    {
      "cell_type": "markdown",
      "source": [
        "##**Dataset**"
      ],
      "metadata": {
        "id": "aZB6hIY1_GNV"
      }
    },
    {
      "cell_type": "code",
      "source": [
        "import torch\n",
        "from torch.utils.data import Dataset\n",
        "\n",
        "class ABSADataset(Dataset):\n",
        "    def __init__(self, df, tokenizer):\n",
        "        self.df = df\n",
        "        self.tokenizer = tokenizer\n",
        "\n",
        "    def __getitem__(self, idx):\n",
        "        tokens, tags, pols = self.df.iloc[idx, :3].values\n",
        "\n",
        "        tokens = tokens.replace(\"'\", \"\").strip(\"][\").split(', ')\n",
        "        tags = tags.strip('][').split(', ')\n",
        "        pols = pols.strip('][').split(', ')\n",
        "\n",
        "        bert_tokens = []\n",
        "        bert_tags = []\n",
        "        bert_pols = []\n",
        "        for i in range(len(tokens)):\n",
        "            t = self.tokenizer.tokenize(tokens[i])\n",
        "            bert_tokens += t\n",
        "            bert_tags += [int(tags[i])]*len(t)\n",
        "            bert_pols += [int(pols[i])]*len(t)\n",
        "\n",
        "        bert_ids = self.tokenizer.convert_tokens_to_ids(bert_tokens)\n",
        "\n",
        "        ids_tensor = torch.tensor(bert_ids)\n",
        "        tags_tensor = torch.tensor(bert_tags)\n",
        "        pols_tensor = torch.tensor(bert_pols)\n",
        "        return bert_tokens, ids_tensor, tags_tensor, pols_tensor\n",
        "\n",
        "    def __len__(self):\n",
        "        return len(self.df)"
      ],
      "metadata": {
        "id": "8HQLZiFh_IZL"
      },
      "execution_count": null,
      "outputs": []
    },
    {
      "cell_type": "code",
      "source": [
        "import pandas as pd\n",
        "\n",
        "train_df = pd.read_csv('./data/restaurants_train.csv')\n",
        "test_df = pd.read_csv('./data/restaurants_test.csv')"
      ],
      "metadata": {
        "id": "2vBmzMtT_14U"
      },
      "execution_count": null,
      "outputs": []
    },
    {
      "cell_type": "code",
      "source": [
        "train_df.iloc[0]"
      ],
      "metadata": {
        "colab": {
          "base_uri": "https://localhost:8080/"
        },
        "id": "VccDur9UBeZb",
        "outputId": "b7202386-8a8f-487e-9340-61d52f18c468"
      },
      "execution_count": null,
      "outputs": [
        {
          "output_type": "execute_result",
          "data": {
            "text/plain": [
              "Tokens        ['But', 'the', 'staff', 'was', 'so', 'horrible...\n",
              "Tags                                [0, 0, 1, 0, 0, 0, 0, 0, 0]\n",
              "Polarities                  [-1, -1, 0, -1, -1, -1, -1, -1, -1]\n",
              "Name: 0, dtype: object"
            ]
          },
          "metadata": {},
          "execution_count": 5
        }
      ]
    },
    {
      "cell_type": "code",
      "source": [
        "from transformers import BertTokenizer\n",
        "\n",
        "model_name = \"bert-base-uncased\"\n",
        "tokenizer = BertTokenizer.from_pretrained(model_name)"
      ],
      "metadata": {
        "colab": {
          "base_uri": "https://localhost:8080/",
          "height": 269,
          "referenced_widgets": [
            "cc50b06b039a4e018d638b0f2409d5b6",
            "0f7f5ab1ec7446d2807281a40c539426",
            "11dbd417267548c38192d28cfafeb605",
            "d165df7dabf44d2ab8863e3c0ecd7eae",
            "74eb34e6dee44712bbf3a8234377dac4",
            "28d1879b020c43b893ce506004201072",
            "8cca22ba20334fdcbe690270eab59f4e",
            "44a10e0c5b014d2d95091ef8bda34df4",
            "4bc88def999d43ff83a92d83f6012d68",
            "4aab387d5bca43499c103b5a80a1ff57",
            "e15a768c6889471daa8a11307f4a9d39",
            "4e1c10e89ae84dd295df1092a7d79d87",
            "3f0ff93173434ea186340b51e1ffb171",
            "dba7a86ae5a34ec3b55c151567e2111b",
            "25b3ab60c4444355b40b30272c220b82",
            "12364c4cf986444eb765746c4d87f6e0",
            "11b37720a6a54dc88f9c94df94d2a85c",
            "ff4e62ec030540e5901c658c7ead179e",
            "c8e528d39ce244cfbf1d80d3aebf531f",
            "aab183e545224642af66bca6a28e7665",
            "244ac835c8ea4a4b9e4464934250d3db",
            "7a622b02984c4f82a7d47fe6f7804a44",
            "0b9fea6ddbc8427294621fbd927c7c07",
            "c5940bbac17b41eb8aae5620f696ce41",
            "18ffe392e2ba460ca482ae3c2bbbc6a7",
            "b121f69bd04d4d278c9099be1d1a2eba",
            "9e8e43c0ef974675bc7c71e7bdb67291",
            "fa642a38083946a98992d9acd333dabe",
            "e89454d73b7e4514a2493c16666b4faf",
            "9391f707b896437bbf14ae1b930a9e26",
            "b22599ce0eb840d1b0fe9e00ed4b01f8",
            "a0de59514ba4496f9006bfdb7b6779aa",
            "d685560936a540a088daa7ed8eff0d01",
            "0a93391df06b488ca443f98cd96cfa03",
            "59a07b513cd54ba49e245bbd61918e0b",
            "12a57ba31c104ea68beb5750126b7955",
            "eff7ff7e2e9c4fc397923a50e18b393c",
            "93e99b42a7ac4a36be79e3489848aaf0",
            "70a7b54c20bb4782b0a8f02b8cc7a56c",
            "7d96d0b35b93416187c7e4176527321d",
            "580a9f4ee1f04f9bb40680deecebf2b5",
            "94e9789c2a4547cf903bbf26f4ee84a2",
            "047e1c17715d40bcaf3eea3cad8a6503",
            "c5ee5d522c7b4459b13582f29504cc8e"
          ]
        },
        "id": "RdTe7kWqAei5",
        "outputId": "336e7c07-0796-409a-a9a3-012570c0d9d5"
      },
      "execution_count": null,
      "outputs": [
        {
          "output_type": "stream",
          "name": "stderr",
          "text": [
            "/usr/local/lib/python3.10/dist-packages/huggingface_hub/utils/_token.py:88: UserWarning: \n",
            "The secret `HF_TOKEN` does not exist in your Colab secrets.\n",
            "To authenticate with the Hugging Face Hub, create a token in your settings tab (https://huggingface.co/settings/tokens), set it as secret in your Google Colab and restart your session.\n",
            "You will be able to reuse this secret in all of your notebooks.\n",
            "Please note that authentication is recommended but still optional to access public models or datasets.\n",
            "  warnings.warn(\n"
          ]
        },
        {
          "output_type": "display_data",
          "data": {
            "text/plain": [
              "tokenizer_config.json:   0%|          | 0.00/28.0 [00:00<?, ?B/s]"
            ],
            "application/vnd.jupyter.widget-view+json": {
              "version_major": 2,
              "version_minor": 0,
              "model_id": "cc50b06b039a4e018d638b0f2409d5b6"
            }
          },
          "metadata": {}
        },
        {
          "output_type": "display_data",
          "data": {
            "text/plain": [
              "vocab.txt:   0%|          | 0.00/232k [00:00<?, ?B/s]"
            ],
            "application/vnd.jupyter.widget-view+json": {
              "version_major": 2,
              "version_minor": 0,
              "model_id": "4e1c10e89ae84dd295df1092a7d79d87"
            }
          },
          "metadata": {}
        },
        {
          "output_type": "display_data",
          "data": {
            "text/plain": [
              "tokenizer.json:   0%|          | 0.00/466k [00:00<?, ?B/s]"
            ],
            "application/vnd.jupyter.widget-view+json": {
              "version_major": 2,
              "version_minor": 0,
              "model_id": "0b9fea6ddbc8427294621fbd927c7c07"
            }
          },
          "metadata": {}
        },
        {
          "output_type": "display_data",
          "data": {
            "text/plain": [
              "config.json:   0%|          | 0.00/570 [00:00<?, ?B/s]"
            ],
            "application/vnd.jupyter.widget-view+json": {
              "version_major": 2,
              "version_minor": 0,
              "model_id": "0a93391df06b488ca443f98cd96cfa03"
            }
          },
          "metadata": {}
        }
      ]
    },
    {
      "cell_type": "code",
      "source": [
        "tokenizer.all_special_tokens"
      ],
      "metadata": {
        "colab": {
          "base_uri": "https://localhost:8080/"
        },
        "id": "7b67AASAB-fC",
        "outputId": "fc3aafb5-97dd-423d-aa35-b87144855ce8"
      },
      "execution_count": null,
      "outputs": [
        {
          "output_type": "execute_result",
          "data": {
            "text/plain": [
              "['[UNK]', '[SEP]', '[PAD]', '[CLS]', '[MASK]']"
            ]
          },
          "metadata": {},
          "execution_count": 7
        }
      ]
    },
    {
      "cell_type": "code",
      "source": [
        "tokenizer.cls_token_id"
      ],
      "metadata": {
        "colab": {
          "base_uri": "https://localhost:8080/"
        },
        "id": "D4XGqw7jCuWZ",
        "outputId": "b179bb08-fac2-4831-8285-231cd9f1b726"
      },
      "execution_count": null,
      "outputs": [
        {
          "output_type": "execute_result",
          "data": {
            "text/plain": [
              "101"
            ]
          },
          "metadata": {},
          "execution_count": 8
        }
      ]
    },
    {
      "cell_type": "code",
      "source": [
        "tokenizer.sep_token_id"
      ],
      "metadata": {
        "colab": {
          "base_uri": "https://localhost:8080/"
        },
        "id": "IQc7LGiHC3Tw",
        "outputId": "d225de68-ea37-4dc3-a39b-b506a2e6b7cc"
      },
      "execution_count": null,
      "outputs": [
        {
          "output_type": "execute_result",
          "data": {
            "text/plain": [
              "102"
            ]
          },
          "metadata": {},
          "execution_count": 9
        }
      ]
    },
    {
      "cell_type": "code",
      "source": [
        "train_ds = ABSADataset(train_df, tokenizer)\n",
        "test_ds = ABSADataset(test_df, tokenizer)"
      ],
      "metadata": {
        "id": "eGoxRlVuAqkO"
      },
      "execution_count": null,
      "outputs": []
    },
    {
      "cell_type": "code",
      "source": [
        "len(train_ds)"
      ],
      "metadata": {
        "id": "YqAItm7yxerF",
        "outputId": "77e9440f-c402-469c-819a-88ac579bbcc5",
        "colab": {
          "base_uri": "https://localhost:8080/"
        }
      },
      "execution_count": null,
      "outputs": [
        {
          "output_type": "execute_result",
          "data": {
            "text/plain": [
              "3602"
            ]
          },
          "metadata": {},
          "execution_count": 7
        }
      ]
    },
    {
      "cell_type": "code",
      "source": [
        "next(iter(train_ds))"
      ],
      "metadata": {
        "colab": {
          "base_uri": "https://localhost:8080/"
        },
        "id": "T6gGCUp-BMHi",
        "outputId": "123a25f3-41b2-4f15-f226-18ac56150a68"
      },
      "execution_count": null,
      "outputs": [
        {
          "output_type": "execute_result",
          "data": {
            "text/plain": [
              "(['but', 'the', 'staff', 'was', 'so', 'horrible', 'to', 'us'],\n",
              " tensor([2021, 1996, 3095, 2001, 2061, 9202, 2000, 2149]),\n",
              " tensor([0, 0, 1, 0, 0, 0, 0, 0]),\n",
              " tensor([-1, -1,  0, -1, -1, -1, -1, -1]))"
            ]
          },
          "metadata": {},
          "execution_count": 11
        }
      ]
    },
    {
      "cell_type": "code",
      "source": [
        "from torch.nn.utils.rnn import pad_sequence\n",
        "\n",
        "def padding(samples):\n",
        "    ids_tensors = [s[1] for s in samples]\n",
        "    ids_tensors = pad_sequence(ids_tensors, batch_first=True)\n",
        "\n",
        "    tags_tensors = [s[2] for s in samples]\n",
        "    tags_tensors = pad_sequence(tags_tensors, batch_first=True)\n",
        "\n",
        "    pols_tensors = [s[3] for s in samples]\n",
        "    pols_tensors = pad_sequence(pols_tensors, batch_first=True)\n",
        "\n",
        "    masks_tensors = torch.zeros(ids_tensors.shape, dtype=torch.long)\n",
        "    masks_tensors = masks_tensors.masked_fill(ids_tensors != 0, 1)\n",
        "\n",
        "    return ids_tensors, tags_tensors, pols_tensors, masks_tensors"
      ],
      "metadata": {
        "id": "fya8wAmRC7Ge"
      },
      "execution_count": null,
      "outputs": []
    },
    {
      "cell_type": "code",
      "source": [
        "from torch.utils.data import DataLoader\n",
        "\n",
        "batch_size = 32\n",
        "train_loader = DataLoader(\n",
        "    train_ds, batch_size=batch_size, shuffle=True, collate_fn=padding\n",
        ")\n",
        "test_loader = DataLoader(\n",
        "    test_ds, batch_size=batch_size, shuffle=True, collate_fn=padding\n",
        ")"
      ],
      "metadata": {
        "id": "N1eFREOMDYmg"
      },
      "execution_count": null,
      "outputs": []
    },
    {
      "cell_type": "code",
      "source": [
        "next(iter(train_loader))"
      ],
      "metadata": {
        "colab": {
          "base_uri": "https://localhost:8080/"
        },
        "id": "DYFrHjjpVaV1",
        "outputId": "0d499947-ad96-4fa6-81a5-d09aa9802e86"
      },
      "execution_count": null,
      "outputs": [
        {
          "output_type": "execute_result",
          "data": {
            "text/plain": [
              "(tensor([[ 1997,  2009,  2003,  2009,  2005,  1996,  2833,  1048, 15185,  1037,\n",
              "          25269,  2497,  2009,  2442,  2022,  1996,  2326,  2030,  1996,  6438],\n",
              "         [ 1996,  7224,  2003,  2009,  1996,  4602,  2021,  1045,  6814,  2008,\n",
              "           1055,  2129,  2027,  2562,  1996,  7597,  2091,     0,     0,     0]]),\n",
              " tensor([[0, 0, 0, 0, 0, 0, 1, 0, 0, 0, 0, 0, 0, 0, 0, 0, 0, 0, 0, 0],\n",
              "         [0, 1, 0, 0, 0, 0, 0, 0, 0, 0, 0, 0, 0, 0, 0, 0, 1, 0, 0, 0]]),\n",
              " tensor([[-1, -1, -1, -1, -1, -1, -1, -1, -1, -1, -1, -1, -1, -1, -1, -1, -1, -1,\n",
              "          -1, -1],\n",
              "         [-1, -1, -1, -1, -1, -1, -1, -1, -1, -1, -1, -1, -1, -1, -1, -1,  2,  0,\n",
              "           0,  0]]),\n",
              " tensor([[1, 1, 1, 1, 1, 1, 1, 1, 1, 1, 1, 1, 1, 1, 1, 1, 1, 1, 1, 1],\n",
              "         [1, 1, 1, 1, 1, 1, 1, 1, 1, 1, 1, 1, 1, 1, 1, 1, 1, 0, 0, 0]]))"
            ]
          },
          "metadata": {},
          "execution_count": 22
        }
      ]
    },
    {
      "cell_type": "markdown",
      "source": [
        "##**Model**"
      ],
      "metadata": {
        "id": "R5KqNndiELIG"
      }
    },
    {
      "cell_type": "code",
      "source": [
        "from transformers import BertModel\n",
        "\n",
        "class ABTEBert(torch.nn.Module):\n",
        "    def __init__(self, model_name):\n",
        "        super(ABTEBert, self).__init__()\n",
        "        self.bert = BertModel.from_pretrained(model_name)\n",
        "        self.linear = torch.nn.Linear(self.bert.config.hidden_size, 3)\n",
        "        self.loss_fn = torch.nn.CrossEntropyLoss()\n",
        "\n",
        "    def forward(self, ids_tensors, masks_tensors, tags_tensors):\n",
        "        bert_outputs= self.bert(\n",
        "            input_ids=ids_tensors, attention_mask=masks_tensors, return_dict=False\n",
        "            )\n",
        "        bert_outputs = bert_outputs[0]\n",
        "\n",
        "        linear_outputs = self.linear(bert_outputs)\n",
        "        if tags_tensors is not None:\n",
        "            tags_tensors = tags_tensors.view(-1)\n",
        "            linear_outputs_ = linear_outputs.view(-1,3)\n",
        "            loss = self.loss_fn(linear_outputs_, tags_tensors)\n",
        "            return loss, linear_outputs\n",
        "        else:\n",
        "            return linear_outputs"
      ],
      "metadata": {
        "id": "YSePW5i2ENJU"
      },
      "execution_count": null,
      "outputs": []
    },
    {
      "cell_type": "code",
      "source": [
        "model = ABTEBert(model_name)"
      ],
      "metadata": {
        "id": "R6H-d06XEzRT"
      },
      "execution_count": null,
      "outputs": []
    },
    {
      "cell_type": "code",
      "source": [
        "device = torch.device(\"cuda\" if torch.cuda.is_available() else \"cpu\")\n",
        "device"
      ],
      "metadata": {
        "colab": {
          "base_uri": "https://localhost:8080/"
        },
        "id": "GuFp9jxhE2Av",
        "outputId": "8017e19f-15cb-4105-d8d7-fe0f3b59f8d0"
      },
      "execution_count": null,
      "outputs": [
        {
          "output_type": "execute_result",
          "data": {
            "text/plain": [
              "device(type='cuda')"
            ]
          },
          "metadata": {},
          "execution_count": 39
        }
      ]
    },
    {
      "cell_type": "code",
      "source": [
        "model.to(device)"
      ],
      "metadata": {
        "colab": {
          "base_uri": "https://localhost:8080/"
        },
        "id": "S3YzgUr1FBlo",
        "outputId": "6b3b3a79-cd3a-42c7-8dc3-2f3ba38d407d"
      },
      "execution_count": null,
      "outputs": [
        {
          "output_type": "execute_result",
          "data": {
            "text/plain": [
              "ABTEBert(\n",
              "  (bert): BertModel(\n",
              "    (embeddings): BertEmbeddings(\n",
              "      (word_embeddings): Embedding(30522, 768, padding_idx=0)\n",
              "      (position_embeddings): Embedding(512, 768)\n",
              "      (token_type_embeddings): Embedding(2, 768)\n",
              "      (LayerNorm): LayerNorm((768,), eps=1e-12, elementwise_affine=True)\n",
              "      (dropout): Dropout(p=0.1, inplace=False)\n",
              "    )\n",
              "    (encoder): BertEncoder(\n",
              "      (layer): ModuleList(\n",
              "        (0-11): 12 x BertLayer(\n",
              "          (attention): BertAttention(\n",
              "            (self): BertSelfAttention(\n",
              "              (query): Linear(in_features=768, out_features=768, bias=True)\n",
              "              (key): Linear(in_features=768, out_features=768, bias=True)\n",
              "              (value): Linear(in_features=768, out_features=768, bias=True)\n",
              "              (dropout): Dropout(p=0.1, inplace=False)\n",
              "            )\n",
              "            (output): BertSelfOutput(\n",
              "              (dense): Linear(in_features=768, out_features=768, bias=True)\n",
              "              (LayerNorm): LayerNorm((768,), eps=1e-12, elementwise_affine=True)\n",
              "              (dropout): Dropout(p=0.1, inplace=False)\n",
              "            )\n",
              "          )\n",
              "          (intermediate): BertIntermediate(\n",
              "            (dense): Linear(in_features=768, out_features=3072, bias=True)\n",
              "            (intermediate_act_fn): GELUActivation()\n",
              "          )\n",
              "          (output): BertOutput(\n",
              "            (dense): Linear(in_features=3072, out_features=768, bias=True)\n",
              "            (LayerNorm): LayerNorm((768,), eps=1e-12, elementwise_affine=True)\n",
              "            (dropout): Dropout(p=0.1, inplace=False)\n",
              "          )\n",
              "        )\n",
              "      )\n",
              "    )\n",
              "    (pooler): BertPooler(\n",
              "      (dense): Linear(in_features=768, out_features=768, bias=True)\n",
              "      (activation): Tanh()\n",
              "    )\n",
              "  )\n",
              "  (linear): Linear(in_features=768, out_features=3, bias=True)\n",
              "  (loss_fn): CrossEntropyLoss()\n",
              ")"
            ]
          },
          "metadata": {},
          "execution_count": 40
        }
      ]
    },
    {
      "cell_type": "code",
      "source": [
        "import time\n",
        "import numpy as np\n",
        "from sklearn.metrics import classification_report\n",
        "\n",
        "def train_epoch(model, optimizer, train_loader, device):\n",
        "    losses = []\n",
        "    for batch in (train_loader):\n",
        "        ids_tensors, tags_tensors, _, masks_tensors = batch\n",
        "        ids_tensors = ids_tensors.to(device)\n",
        "        tags_tensors = tags_tensors.to(device)\n",
        "        masks_tensors = masks_tensors.to(device)\n",
        "\n",
        "        loss, _ = model(\n",
        "            ids_tensors=ids_tensors,\n",
        "            masks_tensors=masks_tensors,\n",
        "            tags_tensors=tags_tensors\n",
        "        )\n",
        "        losses.append(loss.item())\n",
        "        loss.backward()\n",
        "        optimizer.step()\n",
        "        optimizer.zero_grad()\n",
        "    return sum(losses)/len(losses)\n",
        "\n",
        "def evaluate_epoch(model, valid_loader, device):\n",
        "    losses = []\n",
        "\n",
        "    preds, labels = [], []\n",
        "    with torch.no_grad():\n",
        "        for batch in (valid_loader):\n",
        "            ids_tensors, tags_tensors, _, masks_tensors = batch\n",
        "            ids_tensors = ids_tensors.to(device)\n",
        "            tags_tensors = tags_tensors.to(device)\n",
        "            masks_tensors = masks_tensors.to(device)\n",
        "\n",
        "            loss, outputs = model(\n",
        "                ids_tensors=ids_tensors,\n",
        "                masks_tensors=masks_tensors,\n",
        "                tags_tensors=tags_tensors\n",
        "            )\n",
        "            losses.append(loss.item())\n",
        "\n",
        "            _, p = torch.max(outputs, dim=2)\n",
        "            preds += list([int(j) for i in p for j in i ])\n",
        "            labels += list([int(j) for i in tags_tensors for j in i ])\n",
        "\n",
        "    acc = np.mean(np.array(preds) == np.array(labels))\n",
        "    return sum(losses)/len(losses), acc\n",
        "\n",
        "def train(model, model_name, save_model, optimizer, train_loader, valid_loader, num_epochs, device):\n",
        "    train_losses = []\n",
        "    eval_accs, eval_losses = [], []\n",
        "    best_loss_eval = 100\n",
        "    times = []\n",
        "    for epoch in range(1, num_epochs+1):\n",
        "        epoch_start_time = time.time()\n",
        "        # Training\n",
        "        train_loss = train_epoch(model, optimizer, train_loader, device)\n",
        "        train_losses.append(train_loss)\n",
        "\n",
        "        # Evaluation\n",
        "        eval_loss, eval_acc = evaluate_epoch(model, valid_loader, device)\n",
        "        eval_accs.append(eval_acc)\n",
        "        eval_losses.append(eval_loss)\n",
        "\n",
        "        # Save best model\n",
        "        if eval_loss < best_loss_eval:\n",
        "            torch.save(model.state_dict(), save_model + f'/{model_name}.pt')\n",
        "\n",
        "        times.append(time.time() - epoch_start_time)\n",
        "        # Print loss, acc end epoch\n",
        "        print(\"-\" * 59)\n",
        "        print(\n",
        "            \"| End of epoch {:3d} | Time: {:5.2f}s | Train Loss {:8.3f} \"\n",
        "            \"| Valid Accuracy {:8.3f} | Valid Loss {:8.3f} \".format(\n",
        "                epoch, time.time() - epoch_start_time, train_loss, eval_acc, eval_loss\n",
        "            )\n",
        "        )\n",
        "        print(\"-\" * 59)\n",
        "\n",
        "    # Load best model\n",
        "    model.load_state_dict(torch.load(save_model + f'/{model_name}.pt'))\n",
        "    model.eval()\n",
        "    metrics = {\n",
        "        'train_loss': train_losses,\n",
        "        'valid_accuracy': eval_accs,\n",
        "        'valid_loss': eval_losses,\n",
        "        'time': times\n",
        "    }\n",
        "    return model, metrics"
      ],
      "metadata": {
        "id": "7YVK29c_FheI"
      },
      "execution_count": null,
      "outputs": []
    },
    {
      "cell_type": "code",
      "source": [
        "optimizer = torch.optim.AdamW(model.parameters(), lr=1e-5)"
      ],
      "metadata": {
        "id": "_1gnIKSKFTcy"
      },
      "execution_count": null,
      "outputs": []
    },
    {
      "cell_type": "code",
      "source": [
        "loss = train_epoch(model, optimizer, train_loader, device)\n",
        "loss"
      ],
      "metadata": {
        "colab": {
          "base_uri": "https://localhost:8080/"
        },
        "id": "0-Snf1ujGegy",
        "outputId": "606976a6-05b6-4b60-dbaa-d2f648ce57f5"
      },
      "execution_count": null,
      "outputs": [
        {
          "output_type": "execute_result",
          "data": {
            "text/plain": [
              "0.2498261686579316"
            ]
          },
          "metadata": {},
          "execution_count": 43
        }
      ]
    },
    {
      "cell_type": "code",
      "source": [
        "loss, acc = evaluate_epoch(model, test_loader, device)\n",
        "loss, acc"
      ],
      "metadata": {
        "colab": {
          "base_uri": "https://localhost:8080/"
        },
        "id": "M6NLnLFHMvFL",
        "outputId": "e718742b-a6b2-4c44-bb27-c4c81cca58fe"
      },
      "execution_count": null,
      "outputs": [
        {
          "output_type": "execute_result",
          "data": {
            "text/plain": [
              "(0.22030128070286342, 0.9139599831669153)"
            ]
          },
          "metadata": {},
          "execution_count": 46
        }
      ]
    },
    {
      "cell_type": "markdown",
      "source": [
        "##**Training**"
      ],
      "metadata": {
        "id": "cTa_h-LeOQKs"
      }
    },
    {
      "cell_type": "code",
      "source": [
        "!mkdir \"./model\""
      ],
      "metadata": {
        "id": "ZfzkpCoxPBTK"
      },
      "execution_count": null,
      "outputs": []
    },
    {
      "cell_type": "code",
      "source": [
        "save_model = \"./model\"\n",
        "model = ABTEBert(model_name)\n",
        "device = torch.device(\"cuda\" if torch.cuda.is_available() else \"cpu\")\n",
        "model.to(device)\n",
        "optimizer = torch.optim.AdamW(model.parameters(), lr=1e-5)\n",
        "num_epochs = 5\n",
        "best_model, metrics = train(\n",
        "    model, model_name, save_model, optimizer, train_loader, test_loader, num_epochs, device\n",
        ")"
      ],
      "metadata": {
        "colab": {
          "base_uri": "https://localhost:8080/"
        },
        "id": "RXUtw_QRNzxm",
        "outputId": "c8522e42-5d8d-4c78-ac38-2fa40a8039e9"
      },
      "execution_count": null,
      "outputs": [
        {
          "output_type": "stream",
          "name": "stdout",
          "text": [
            "-----------------------------------------------------------\n",
            "| End of epoch   1 | Time: 41.50s | Train Loss    0.284 | Valid Accuracy    0.908 | Valid Loss    0.233 \n",
            "-----------------------------------------------------------\n",
            "-----------------------------------------------------------\n",
            "| End of epoch   2 | Time: 36.46s | Train Loss    0.161 | Valid Accuracy    0.916 | Valid Loss    0.212 \n",
            "-----------------------------------------------------------\n",
            "-----------------------------------------------------------\n",
            "| End of epoch   3 | Time: 37.13s | Train Loss    0.100 | Valid Accuracy    0.919 | Valid Loss    0.249 \n",
            "-----------------------------------------------------------\n",
            "-----------------------------------------------------------\n",
            "| End of epoch   4 | Time: 37.27s | Train Loss    0.049 | Valid Accuracy    0.914 | Valid Loss    0.305 \n",
            "-----------------------------------------------------------\n",
            "-----------------------------------------------------------\n",
            "| End of epoch   5 | Time: 37.50s | Train Loss    0.020 | Valid Accuracy    0.921 | Valid Loss    0.338 \n",
            "-----------------------------------------------------------\n"
          ]
        }
      ]
    },
    {
      "cell_type": "markdown",
      "source": [
        "##**Prediction**"
      ],
      "metadata": {
        "id": "3zwdUW4UOSZM"
      }
    },
    {
      "cell_type": "code",
      "source": [
        "def predict(best_model, sentence, device):\n",
        "    word_pieces = list(tokenizer.tokenize(sentence))\n",
        "    input_ids = tokenizer.convert_tokens_to_ids(word_pieces)\n",
        "    input_tensor = torch.tensor([input_ids]).to(device)\n",
        "\n",
        "    with torch.no_grad():\n",
        "        outputs = model(input_tensor, None, None)\n",
        "        _, predictions = torch.max(outputs, dim=2)\n",
        "\n",
        "    predictions = predictions[0].tolist()\n",
        "    return word_pieces, predictions, outputs"
      ],
      "metadata": {
        "id": "Tjz6fmp7OVAV"
      },
      "execution_count": null,
      "outputs": []
    },
    {
      "cell_type": "code",
      "source": [
        "sentence = \" \".join(test_df.iloc[0][\"Tokens\"].replace(\"'\", \"\").strip(\"][\").split(', '))\n",
        "predict(best_model, sentence, device)"
      ],
      "metadata": {
        "colab": {
          "base_uri": "https://localhost:8080/"
        },
        "id": "89mp_T2dZYcY",
        "outputId": "b489b2c0-7c95-4576-f745-e25ccb008884"
      },
      "execution_count": null,
      "outputs": [
        {
          "output_type": "execute_result",
          "data": {
            "text/plain": [
              "(['the', 'bread', 'is', 'top', 'notch', 'as', 'well'],\n",
              " [0, 1, 0, 0, 0, 0, 0],\n",
              " tensor([[[ 5.8475, -1.7779, -4.0687],\n",
              "          [-3.8340,  4.0682, -0.0569],\n",
              "          [ 5.0618, -3.3294, -2.3222],\n",
              "          [ 5.0944, -2.8798, -2.5601],\n",
              "          [ 5.4222, -3.2680, -2.4064],\n",
              "          [ 5.1982, -2.9147, -2.8567],\n",
              "          [ 5.3094, -2.9266, -2.6666]]], device='cuda:0'))"
            ]
          },
          "metadata": {},
          "execution_count": 50
        }
      ]
    }
  ]
}